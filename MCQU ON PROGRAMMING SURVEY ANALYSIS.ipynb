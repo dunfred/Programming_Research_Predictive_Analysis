{
 "cells": [
  {
   "cell_type": "code",
   "execution_count": 1,
   "metadata": {},
   "outputs": [],
   "source": [
    "import numpy as np\n",
    "import pandas as pd\n",
    "import seaborn as sns\n",
    "import matplotlib.pyplot as plt\n",
    "%matplotlib inline"
   ]
  },
  {
   "cell_type": "code",
   "execution_count": 2,
   "metadata": {
    "scrolled": true
   },
   "outputs": [
    {
     "data": {
      "text/html": [
       "<div>\n",
       "<style scoped>\n",
       "    .dataframe tbody tr th:only-of-type {\n",
       "        vertical-align: middle;\n",
       "    }\n",
       "\n",
       "    .dataframe tbody tr th {\n",
       "        vertical-align: top;\n",
       "    }\n",
       "\n",
       "    .dataframe thead th {\n",
       "        text-align: right;\n",
       "    }\n",
       "</style>\n",
       "<table border=\"1\" class=\"dataframe\">\n",
       "  <thead>\n",
       "    <tr style=\"text-align: right;\">\n",
       "      <th></th>\n",
       "      <th>Timestamp</th>\n",
       "      <th>Gender</th>\n",
       "      <th>Name of Institution/ University</th>\n",
       "      <th>Level of education</th>\n",
       "      <th>Field of study:</th>\n",
       "      <th>Do you have any knowledge on programming?</th>\n",
       "      <th>Field of interest in programming:</th>\n",
       "      <th>Your level of understading in this field/ fields</th>\n",
       "      <th>Where did/do you properly study programming?</th>\n",
       "      <th>Is Programming difficult?</th>\n",
       "      <th>If YES, WHY (according to Tertiary)</th>\n",
       "      <th>What do you think is the reason for poor performance in programming. (Acadamically)?</th>\n",
       "      <th>Do you agree that students studying programming in private institutions do well than universities.</th>\n",
       "      <th>Reasons if any:</th>\n",
       "      <th>How would you want programming to be taught in Tertiary institutions (Public/ Private)</th>\n",
       "      <th>Any other suggestion to add to the survey?</th>\n",
       "    </tr>\n",
       "  </thead>\n",
       "  <tbody>\n",
       "    <tr>\n",
       "      <td>0</td>\n",
       "      <td>2019/12/25 8:37:15 am GMT</td>\n",
       "      <td>Male</td>\n",
       "      <td>ucc</td>\n",
       "      <td>200</td>\n",
       "      <td>Information Technology</td>\n",
       "      <td>Yes</td>\n",
       "      <td>Web development   (considered)</td>\n",
       "      <td>Intermediate</td>\n",
       "      <td>Youtube;E-Learning sites (udemy, sololearn etc)</td>\n",
       "      <td>No</td>\n",
       "      <td>Lecturers don't make programming interesting e...</td>\n",
       "      <td>The Lecturers don't get us involved, they alwa...</td>\n",
       "      <td>Strongly agree</td>\n",
       "      <td>They are equipped practically</td>\n",
       "      <td>How would we want programming to be taught in ...</td>\n",
       "      <td>NaN</td>\n",
       "    </tr>\n",
       "    <tr>\n",
       "      <td>1</td>\n",
       "      <td>2019/12/25 9:34:27 pm GMT</td>\n",
       "      <td>Male</td>\n",
       "      <td>university of ghana, legon</td>\n",
       "      <td>300</td>\n",
       "      <td>Information Technology</td>\n",
       "      <td>Yes</td>\n",
       "      <td>Web development   (considered);Networking;Cybe...</td>\n",
       "      <td>Intermediate</td>\n",
       "      <td>University/Tertiary;Youtube</td>\n",
       "      <td>No</td>\n",
       "      <td>Too much theory</td>\n",
       "      <td>Practical learning and teaching</td>\n",
       "      <td>Neutral</td>\n",
       "      <td>Available materials and tools for learning pro...</td>\n",
       "      <td>No</td>\n",
       "      <td>NaN</td>\n",
       "    </tr>\n",
       "    <tr>\n",
       "      <td>2</td>\n",
       "      <td>2019/12/26 8:27:27 pm GMT</td>\n",
       "      <td>Male</td>\n",
       "      <td>university of cape coast</td>\n",
       "      <td>200</td>\n",
       "      <td>Computer Science</td>\n",
       "      <td>Yes</td>\n",
       "      <td>Web development   (considered);Networking;Cybe...</td>\n",
       "      <td>Beginner</td>\n",
       "      <td>Youtube</td>\n",
       "      <td>Yes</td>\n",
       "      <td>Too much theory;Lecturers don't make programmi...</td>\n",
       "      <td>Too much theory than practicals</td>\n",
       "      <td>Strongly agree</td>\n",
       "      <td>NaN</td>\n",
       "      <td>It should be made purely practicals</td>\n",
       "      <td>NaN</td>\n",
       "    </tr>\n",
       "    <tr>\n",
       "      <td>3</td>\n",
       "      <td>2019/12/26 8:32:16 pm GMT</td>\n",
       "      <td>Male</td>\n",
       "      <td>university of cape coast</td>\n",
       "      <td>400</td>\n",
       "      <td>Computer Science</td>\n",
       "      <td>Yes</td>\n",
       "      <td>Web development   (considered);Data analysis/ ...</td>\n",
       "      <td>Beginner</td>\n",
       "      <td>University/Tertiary;Youtube</td>\n",
       "      <td>Yes</td>\n",
       "      <td>Too much theory</td>\n",
       "      <td>Theory</td>\n",
       "      <td>Neutral</td>\n",
       "      <td>NaN</td>\n",
       "      <td>Practically</td>\n",
       "      <td>NaN</td>\n",
       "    </tr>\n",
       "    <tr>\n",
       "      <td>4</td>\n",
       "      <td>2019/12/26 8:36:00 pm GMT</td>\n",
       "      <td>Male</td>\n",
       "      <td>takoradi technical university</td>\n",
       "      <td>100</td>\n",
       "      <td>Information Technology</td>\n",
       "      <td>Yes</td>\n",
       "      <td>Web development   (considered);Application dev...</td>\n",
       "      <td>Beginner</td>\n",
       "      <td>University/Tertiary;Youtube;E-Learning sites (...</td>\n",
       "      <td>Yes</td>\n",
       "      <td>Lecturers don't make programming interesting e...</td>\n",
       "      <td>Not making enough effort</td>\n",
       "      <td>Disagree</td>\n",
       "      <td>Just believe in hardwork and practice makes ma...</td>\n",
       "      <td>Yes</td>\n",
       "      <td>NaN</td>\n",
       "    </tr>\n",
       "    <tr>\n",
       "      <td>...</td>\n",
       "      <td>...</td>\n",
       "      <td>...</td>\n",
       "      <td>...</td>\n",
       "      <td>...</td>\n",
       "      <td>...</td>\n",
       "      <td>...</td>\n",
       "      <td>...</td>\n",
       "      <td>...</td>\n",
       "      <td>...</td>\n",
       "      <td>...</td>\n",
       "      <td>...</td>\n",
       "      <td>...</td>\n",
       "      <td>...</td>\n",
       "      <td>...</td>\n",
       "      <td>...</td>\n",
       "      <td>...</td>\n",
       "    </tr>\n",
       "    <tr>\n",
       "      <td>94</td>\n",
       "      <td>2020/01/03 9:36:46 am GMT</td>\n",
       "      <td>Male</td>\n",
       "      <td>university of ghana</td>\n",
       "      <td>400</td>\n",
       "      <td>Information Technology</td>\n",
       "      <td>Yes</td>\n",
       "      <td>Web development   (considered);Data analysis/ ...</td>\n",
       "      <td>Beginner</td>\n",
       "      <td>Youtube</td>\n",
       "      <td>Yes</td>\n",
       "      <td>Intermidiate knowledge portrayed by lecturers</td>\n",
       "      <td>I don’t know</td>\n",
       "      <td>Strongly agree</td>\n",
       "      <td>NaN</td>\n",
       "      <td>More practical and less theory</td>\n",
       "      <td>NaN</td>\n",
       "    </tr>\n",
       "    <tr>\n",
       "      <td>95</td>\n",
       "      <td>2020/01/03 9:36:55 am GMT</td>\n",
       "      <td>Male</td>\n",
       "      <td>university of ghana</td>\n",
       "      <td>400</td>\n",
       "      <td>Information Technology</td>\n",
       "      <td>Yes</td>\n",
       "      <td>Web development   (considered);Data analysis/ ...</td>\n",
       "      <td>Beginner</td>\n",
       "      <td>Youtube</td>\n",
       "      <td>Yes</td>\n",
       "      <td>Intermidiate knowledge portrayed by lecturers</td>\n",
       "      <td>I don’t know</td>\n",
       "      <td>Strongly agree</td>\n",
       "      <td>NaN</td>\n",
       "      <td>More practical and less theory</td>\n",
       "      <td>NaN</td>\n",
       "    </tr>\n",
       "    <tr>\n",
       "      <td>96</td>\n",
       "      <td>2020/01/03 10:06:17 am GMT</td>\n",
       "      <td>Male</td>\n",
       "      <td>ug</td>\n",
       "      <td>200</td>\n",
       "      <td>Computer Science</td>\n",
       "      <td>No</td>\n",
       "      <td>Data analysis/ administration</td>\n",
       "      <td>Beginner</td>\n",
       "      <td>University/Tertiary</td>\n",
       "      <td>Yes</td>\n",
       "      <td>Too much theory;Little practicals</td>\n",
       "      <td>Less practice</td>\n",
       "      <td>Strongly agree</td>\n",
       "      <td>They have more time for practicals since their...</td>\n",
       "      <td>Small theory more practicals</td>\n",
       "      <td>NaN</td>\n",
       "    </tr>\n",
       "    <tr>\n",
       "      <td>97</td>\n",
       "      <td>2020/01/03 10:25:58 am GMT</td>\n",
       "      <td>Male</td>\n",
       "      <td>koforidua technical university</td>\n",
       "      <td>300</td>\n",
       "      <td>Computer Science</td>\n",
       "      <td>Yes</td>\n",
       "      <td>Application development</td>\n",
       "      <td>Beginner</td>\n",
       "      <td>University/Tertiary</td>\n",
       "      <td>Yes</td>\n",
       "      <td>Little practicals;Lack of detailed / step by s...</td>\n",
       "      <td>Lack of understanding</td>\n",
       "      <td>Neutral</td>\n",
       "      <td>NaN</td>\n",
       "      <td>More practical</td>\n",
       "      <td>Lecturers should take their time to explain th...</td>\n",
       "    </tr>\n",
       "    <tr>\n",
       "      <td>98</td>\n",
       "      <td>2020/01/03 10:34:50 am GMT</td>\n",
       "      <td>Male</td>\n",
       "      <td>ucc</td>\n",
       "      <td>100</td>\n",
       "      <td>Computer Science</td>\n",
       "      <td>Yes</td>\n",
       "      <td>Artificial Intelligence</td>\n",
       "      <td>Beginner</td>\n",
       "      <td>E-Learning sites (udemy, sololearn etc)</td>\n",
       "      <td>Yes</td>\n",
       "      <td>Lack of detailed / step by step understanding ...</td>\n",
       "      <td>Lack of in depth understanding of what each li...</td>\n",
       "      <td>Strongly agree</td>\n",
       "      <td>NaN</td>\n",
       "      <td>It should be given much more attention</td>\n",
       "      <td>NaN</td>\n",
       "    </tr>\n",
       "  </tbody>\n",
       "</table>\n",
       "<p>99 rows × 16 columns</p>\n",
       "</div>"
      ],
      "text/plain": [
       "                     Timestamp Gender  Name of Institution/ University  \\\n",
       "0    2019/12/25 8:37:15 am GMT   Male                              ucc   \n",
       "1    2019/12/25 9:34:27 pm GMT   Male       university of ghana, legon   \n",
       "2    2019/12/26 8:27:27 pm GMT   Male         university of cape coast   \n",
       "3    2019/12/26 8:32:16 pm GMT   Male         university of cape coast   \n",
       "4    2019/12/26 8:36:00 pm GMT   Male   takoradi technical university    \n",
       "..                         ...    ...                              ...   \n",
       "94   2020/01/03 9:36:46 am GMT   Male             university of ghana    \n",
       "95   2020/01/03 9:36:55 am GMT   Male             university of ghana    \n",
       "96  2020/01/03 10:06:17 am GMT   Male                               ug   \n",
       "97  2020/01/03 10:25:58 am GMT   Male  koforidua technical university    \n",
       "98  2020/01/03 10:34:50 am GMT   Male                              ucc   \n",
       "\n",
       "   Level of education         Field of study:  \\\n",
       "0                 200  Information Technology   \n",
       "1                 300  Information Technology   \n",
       "2                 200        Computer Science   \n",
       "3                 400        Computer Science   \n",
       "4                 100  Information Technology   \n",
       "..                ...                     ...   \n",
       "94                400  Information Technology   \n",
       "95                400  Information Technology   \n",
       "96                200        Computer Science   \n",
       "97                300        Computer Science   \n",
       "98                100        Computer Science   \n",
       "\n",
       "   Do you have any knowledge on programming?  \\\n",
       "0                                        Yes   \n",
       "1                                        Yes   \n",
       "2                                        Yes   \n",
       "3                                        Yes   \n",
       "4                                        Yes   \n",
       "..                                       ...   \n",
       "94                                       Yes   \n",
       "95                                       Yes   \n",
       "96                                        No   \n",
       "97                                       Yes   \n",
       "98                                       Yes   \n",
       "\n",
       "                    Field of interest in programming:  \\\n",
       "0                      Web development   (considered)   \n",
       "1   Web development   (considered);Networking;Cybe...   \n",
       "2   Web development   (considered);Networking;Cybe...   \n",
       "3   Web development   (considered);Data analysis/ ...   \n",
       "4   Web development   (considered);Application dev...   \n",
       "..                                                ...   \n",
       "94  Web development   (considered);Data analysis/ ...   \n",
       "95  Web development   (considered);Data analysis/ ...   \n",
       "96                      Data analysis/ administration   \n",
       "97                            Application development   \n",
       "98                            Artificial Intelligence   \n",
       "\n",
       "   Your level of understading in this field/ fields  \\\n",
       "0                                      Intermediate   \n",
       "1                                      Intermediate   \n",
       "2                                          Beginner   \n",
       "3                                          Beginner   \n",
       "4                                          Beginner   \n",
       "..                                              ...   \n",
       "94                                         Beginner   \n",
       "95                                         Beginner   \n",
       "96                                         Beginner   \n",
       "97                                         Beginner   \n",
       "98                                         Beginner   \n",
       "\n",
       "         Where did/do you properly study programming?  \\\n",
       "0     Youtube;E-Learning sites (udemy, sololearn etc)   \n",
       "1                         University/Tertiary;Youtube   \n",
       "2                                             Youtube   \n",
       "3                         University/Tertiary;Youtube   \n",
       "4   University/Tertiary;Youtube;E-Learning sites (...   \n",
       "..                                                ...   \n",
       "94                                            Youtube   \n",
       "95                                            Youtube   \n",
       "96                                University/Tertiary   \n",
       "97                                University/Tertiary   \n",
       "98            E-Learning sites (udemy, sololearn etc)   \n",
       "\n",
       "   Is Programming difficult?  \\\n",
       "0                         No   \n",
       "1                         No   \n",
       "2                        Yes   \n",
       "3                        Yes   \n",
       "4                        Yes   \n",
       "..                       ...   \n",
       "94                       Yes   \n",
       "95                       Yes   \n",
       "96                       Yes   \n",
       "97                       Yes   \n",
       "98                       Yes   \n",
       "\n",
       "                  If YES, WHY (according to Tertiary)  \\\n",
       "0   Lecturers don't make programming interesting e...   \n",
       "1                                     Too much theory   \n",
       "2   Too much theory;Lecturers don't make programmi...   \n",
       "3                                     Too much theory   \n",
       "4   Lecturers don't make programming interesting e...   \n",
       "..                                                ...   \n",
       "94      Intermidiate knowledge portrayed by lecturers   \n",
       "95      Intermidiate knowledge portrayed by lecturers   \n",
       "96                  Too much theory;Little practicals   \n",
       "97  Little practicals;Lack of detailed / step by s...   \n",
       "98  Lack of detailed / step by step understanding ...   \n",
       "\n",
       "   What do you think is the reason for poor performance in programming. (Acadamically)?   \\\n",
       "0   The Lecturers don't get us involved, they alwa...                                      \n",
       "1                     Practical learning and teaching                                      \n",
       "2                     Too much theory than practicals                                      \n",
       "3                                              Theory                                      \n",
       "4                           Not making enough effort                                       \n",
       "..                                                ...                                      \n",
       "94                                      I don’t know                                       \n",
       "95                                      I don’t know                                       \n",
       "96                                     Less practice                                       \n",
       "97                             Lack of understanding                                       \n",
       "98  Lack of in depth understanding of what each li...                                      \n",
       "\n",
       "   Do you agree that students studying programming in private institutions do well than universities.   \\\n",
       "0                                      Strongly agree                                                    \n",
       "1                                             Neutral                                                    \n",
       "2                                      Strongly agree                                                    \n",
       "3                                             Neutral                                                    \n",
       "4                                            Disagree                                                    \n",
       "..                                                ...                                                    \n",
       "94                                     Strongly agree                                                    \n",
       "95                                     Strongly agree                                                    \n",
       "96                                     Strongly agree                                                    \n",
       "97                                            Neutral                                                    \n",
       "98                                     Strongly agree                                                    \n",
       "\n",
       "                                      Reasons if any:  \\\n",
       "0                       They are equipped practically   \n",
       "1   Available materials and tools for learning pro...   \n",
       "2                                                 NaN   \n",
       "3                                                 NaN   \n",
       "4   Just believe in hardwork and practice makes ma...   \n",
       "..                                                ...   \n",
       "94                                                NaN   \n",
       "95                                                NaN   \n",
       "96  They have more time for practicals since their...   \n",
       "97                                                NaN   \n",
       "98                                                NaN   \n",
       "\n",
       "   How would you want programming to be taught in Tertiary institutions (Public/ Private)  \\\n",
       "0   How would we want programming to be taught in ...                                       \n",
       "1                                                  No                                       \n",
       "2                It should be made purely practicals                                        \n",
       "3                                         Practically                                       \n",
       "4                                                 Yes                                       \n",
       "..                                                ...                                       \n",
       "94                    More practical and less theory                                        \n",
       "95                    More practical and less theory                                        \n",
       "96                       Small theory more practicals                                       \n",
       "97                                    More practical                                        \n",
       "98             It should be given much more attention                                       \n",
       "\n",
       "           Any other suggestion to add to the survey?  \n",
       "0                                                 NaN  \n",
       "1                                                 NaN  \n",
       "2                                                 NaN  \n",
       "3                                                 NaN  \n",
       "4                                                 NaN  \n",
       "..                                                ...  \n",
       "94                                                NaN  \n",
       "95                                                NaN  \n",
       "96                                                NaN  \n",
       "97  Lecturers should take their time to explain th...  \n",
       "98                                                NaN  \n",
       "\n",
       "[99 rows x 16 columns]"
      ]
     },
     "execution_count": 2,
     "metadata": {},
     "output_type": "execute_result"
    }
   ],
   "source": [
    "df = pd.read_csv(\"csv/Programming Research Survey.csv\")\n",
    "df[\"Name of Institution/ University\"] = df[\"Name of Institution/ University\"].str.lower()\n",
    "df"
   ]
  },
  {
   "cell_type": "markdown",
   "metadata": {},
   "source": [
    "### Number of men and women who participated in the survey"
   ]
  },
  {
   "cell_type": "code",
   "execution_count": 3,
   "metadata": {},
   "outputs": [
    {
     "data": {
      "text/plain": [
       "<matplotlib.axes._subplots.AxesSubplot at 0x7fa31d25a7d0>"
      ]
     },
     "execution_count": 3,
     "metadata": {},
     "output_type": "execute_result"
    },
    {
     "data": {
      "image/png": "[encoded data removed]",
      "text/plain": [
       "<Figure size 720x360 with 1 Axes>"
      ]
     },
     "metadata": {
      "needs_background": "light"
     },
     "output_type": "display_data"
    }
   ],
   "source": [
    "df[\"Gender\"].value_counts(normalize=False).plot(kind='bar', figsize=(10,5), color=\"#61d199\", rot=0)"
   ]
  },
  {
   "cell_type": "markdown",
   "metadata": {},
   "source": [
    "### Level of education for total population"
   ]
  },
  {
   "cell_type": "code",
   "execution_count": 4,
   "metadata": {},
   "outputs": [
    {
     "data": {
      "text/plain": [
       "<matplotlib.axes._subplots.AxesSubplot at 0x7fa31d19ce90>"
      ]
     },
     "execution_count": 4,
     "metadata": {},
     "output_type": "execute_result"
    },
    {
     "data": {
      "image/png": "[encoded data removed]",
      "text/plain": [
       "<Figure size 720x360 with 1 Axes>"
      ]
     },
     "metadata": {
      "needs_background": "light"
     },
     "output_type": "display_data"
    }
   ],
   "source": [
    "df[\"Level of education\"].value_counts(normalize=False).plot(kind='bar', figsize=(10,5), color=\"#61d199\", rot=0)"
   ]
  },
  {
   "cell_type": "markdown",
   "metadata": {},
   "source": [
    "### Level Of education for males who took the survey"
   ]
  },
  {
   "cell_type": "code",
   "execution_count": 5,
   "metadata": {},
   "outputs": [
    {
     "data": {
      "text/plain": [
       "<matplotlib.axes._subplots.AxesSubplot at 0x7fa31d127f90>"
      ]
     },
     "execution_count": 5,
     "metadata": {},
     "output_type": "execute_result"
    },
    {
     "data": {
      "image/png": "[encoded data removed]",
      "text/plain": [
       "<Figure size 720x360 with 1 Axes>"
      ]
     },
     "metadata": {
      "needs_background": "light"
     },
     "output_type": "display_data"
    }
   ],
   "source": [
    "df[df[\"Gender\"] == \"Male\"][\"Level of education\"].value_counts(normalize=False).plot(kind='bar', figsize=(10,5), color=\"#61d199\", rot=0)"
   ]
  },
  {
   "cell_type": "markdown",
   "metadata": {},
   "source": [
    "### Level of education for females who took the survey"
   ]
  },
  {
   "cell_type": "code",
   "execution_count": 6,
   "metadata": {},
   "outputs": [
    {
     "data": {
      "text/plain": [
       "<matplotlib.axes._subplots.AxesSubplot at 0x7fa31d0aa050>"
      ]
     },
     "execution_count": 6,
     "metadata": {},
     "output_type": "execute_result"
    },
    {
     "data": {
      "image/png": "[encoded data removed]",
      "text/plain": [
       "<Figure size 720x360 with 1 Axes>"
      ]
     },
     "metadata": {
      "needs_background": "light"
     },
     "output_type": "display_data"
    }
   ],
   "source": [
    "df[df[\"Gender\"] == \"Female\"][\"Level of education\"].value_counts(normalize=False).plot(kind='bar', figsize=(10,5), color=\"#61d199\", rot=0)"
   ]
  },
  {
   "cell_type": "markdown",
   "metadata": {},
   "source": [
    "### Field of study. Information technology / Computer Science"
   ]
  },
  {
   "cell_type": "code",
   "execution_count": 7,
   "metadata": {},
   "outputs": [
    {
     "data": {
      "text/plain": [
       "<matplotlib.axes._subplots.AxesSubplot at 0x7fa31cf91310>"
      ]
     },
     "execution_count": 7,
     "metadata": {},
     "output_type": "execute_result"
    },
    {
     "data": {
      "image/png": "[encoded data removed]",
      "text/plain": [
       "<Figure size 720x360 with 1 Axes>"
      ]
     },
     "metadata": {},
     "output_type": "display_data"
    }
   ],
   "source": [
    "df[\"Field of study:\"].value_counts(normalize=True).plot(kind='pie', figsize=(10,5))"
   ]
  },
  {
   "cell_type": "markdown",
   "metadata": {},
   "source": [
    "### Overall knowledge in programming"
   ]
  },
  {
   "cell_type": "code",
   "execution_count": 8,
   "metadata": {},
   "outputs": [
    {
     "data": {
      "text/plain": [
       "<matplotlib.axes._subplots.AxesSubplot at 0x7fa31503ef50>"
      ]
     },
     "execution_count": 8,
     "metadata": {},
     "output_type": "execute_result"
    },
    {
     "data": {
      "image/png": "[encoded data removed]",
      "text/plain": [
       "<Figure size 720x360 with 1 Axes>"
      ]
     },
     "metadata": {},
     "output_type": "display_data"
    }
   ],
   "source": [
    "df[\"Do you have any knowledge on programming?\"].value_counts(normalize=True).plot(kind='pie', figsize=(10,5))"
   ]
  },
  {
   "cell_type": "markdown",
   "metadata": {},
   "source": [
    "### Population's level of understaning in Programming field"
   ]
  },
  {
   "cell_type": "code",
   "execution_count": 9,
   "metadata": {},
   "outputs": [
    {
     "data": {
      "text/plain": [
       "<matplotlib.axes._subplots.AxesSubplot at 0x7fa315016e90>"
      ]
     },
     "execution_count": 9,
     "metadata": {},
     "output_type": "execute_result"
    },
    {
     "data": {
      "image/png": "[encoded data removed]",
      "text/plain": [
       "<Figure size 720x360 with 1 Axes>"
      ]
     },
     "metadata": {
      "needs_background": "light"
     },
     "output_type": "display_data"
    }
   ],
   "source": [
    "df[\"Your level of understading in this field/ fields\"].value_counts(normalize=False).plot(kind='bar', figsize=(10,5), color=\"#61d199\", rot=0)"
   ]
  },
  {
   "cell_type": "markdown",
   "metadata": {},
   "source": [
    "### Overall remarks on the question, Is Programming Difficult?"
   ]
  },
  {
   "cell_type": "code",
   "execution_count": 10,
   "metadata": {},
   "outputs": [
    {
     "data": {
      "text/plain": [
       "<matplotlib.axes._subplots.AxesSubplot at 0x7fa31dbd57d0>"
      ]
     },
     "execution_count": 10,
     "metadata": {},
     "output_type": "execute_result"
    },
    {
     "data": {
      "image/png": "[encoded data removed]",
      "text/plain": [
       "<Figure size 720x360 with 1 Axes>"
      ]
     },
     "metadata": {},
     "output_type": "display_data"
    }
   ],
   "source": [
    "df[\"Is Programming difficult?\"].value_counts(normalize=True).plot(kind='pie', figsize=(10,5))"
   ]
  },
  {
   "cell_type": "markdown",
   "metadata": {},
   "source": [
    "### Population's reply on the question, Are Private Institutions better than Universities?"
   ]
  },
  {
   "cell_type": "code",
   "execution_count": 11,
   "metadata": {},
   "outputs": [
    {
     "data": {
      "text/plain": [
       "<matplotlib.axes._subplots.AxesSubplot at 0x7fa314f57b90>"
      ]
     },
     "execution_count": 11,
     "metadata": {},
     "output_type": "execute_result"
    },
    {
     "data": {
      "image/png": "[encoded data removed]",
      "text/plain": [
       "<Figure size 720x360 with 1 Axes>"
      ]
     },
     "metadata": {
      "needs_background": "light"
     },
     "output_type": "display_data"
    }
   ],
   "source": [
    "df[\"Do you agree that students studying programming in private institutions do well than universities. \"].value_counts(normalize=False).plot(kind='bar',figsize=(10,5), color=\"#61d199\", rot=0)"
   ]
  },
  {
   "cell_type": "markdown",
   "metadata": {},
   "source": [
    "### How University Of Cape Coast students reviewed the Programming as a difficult subject question"
   ]
  },
  {
   "cell_type": "code",
   "execution_count": 12,
   "metadata": {
    "scrolled": true
   },
   "outputs": [
    {
     "data": {
      "text/plain": [
       "<matplotlib.axes._subplots.AxesSubplot at 0x7fa314eb4450>"
      ]
     },
     "execution_count": 12,
     "metadata": {},
     "output_type": "execute_result"
    },
    {
     "data": {
      "image/png": "[encoded data removed]",
      "text/plain": [
       "<Figure size 720x360 with 1 Axes>"
      ]
     },
     "metadata": {
      "needs_background": "light"
     },
     "output_type": "display_data"
    }
   ],
   "source": [
    "no_200_ucc = df[\n",
    "    (df[\"Level of education\"] == '200') &\n",
    "    (df[\"Name of Institution/ University\"] == \"ucc\") | \n",
    "    (df[\"Name of Institution/ University\"] == \"university of cape coast\") | \n",
    "    (df[\"Name of Institution/ University\"] == \"university of capecoast\")  |\n",
    "    (df[\"Name of Institution/ University\"] == \"university of cape coast \")\n",
    "]\n",
    "no_200_ucc[\"Is Programming difficult?\"].value_counts().plot(kind=\"bar\", figsize=(10,5), color=\"#61d199\", rot=0)"
   ]
  },
  {
   "cell_type": "markdown",
   "metadata": {},
   "source": [
    "### Overall student's field of interest record"
   ]
  },
  {
   "cell_type": "code",
   "execution_count": 13,
   "metadata": {},
   "outputs": [
    {
     "data": {
      "text/plain": [
       "<matplotlib.axes._subplots.AxesSubplot at 0x7fa314e29790>"
      ]
     },
     "execution_count": 13,
     "metadata": {},
     "output_type": "execute_result"
    },
    {
     "data": {
      "image/png": "[encoded data removed]",
      "text/plain": [
       "<Figure size 720x360 with 1 Axes>"
      ]
     },
     "metadata": {
      "needs_background": "light"
     },
     "output_type": "display_data"
    }
   ],
   "source": [
    "field_of_interest = df[\"Field of interest in programming:\"].str.split(\";\", expand=True)\n",
    "field_of_interest.stack().value_counts().plot(kind=\"bar\", figsize=(10,5), color=\"#61d199\", rot=80)"
   ]
  },
  {
   "cell_type": "markdown",
   "metadata": {},
   "source": [
    "### Where students studied programming the most"
   ]
  },
  {
   "cell_type": "code",
   "execution_count": 14,
   "metadata": {},
   "outputs": [
    {
     "data": {
      "text/plain": [
       "<matplotlib.axes._subplots.AxesSubplot at 0x7fa314da2fd0>"
      ]
     },
     "execution_count": 14,
     "metadata": {},
     "output_type": "execute_result"
    },
    {
     "data": {
      "image/png": "[encoded data removed]",
      "text/plain": [
       "<Figure size 720x360 with 1 Axes>"
      ]
     },
     "metadata": {
      "needs_background": "light"
     },
     "output_type": "display_data"
    }
   ],
   "source": [
    "where_std_prg = df[\"Where did/do you properly study programming?\"].str.split(\";\", expand=True)\n",
    "where_std_prg.stack().value_counts().plot(kind=\"bar\", figsize=(10,5), color=\"#61d199\", rot=80)"
   ]
  },
  {
   "cell_type": "markdown",
   "metadata": {},
   "source": [
    "## Based on above result, student's studied programming the most from Youtube. \n",
    "### - So when the question \"Is progamming difficult?\" asked again, replys from Youtube cluster is;"
   ]
  },
  {
   "cell_type": "code",
   "execution_count": 15,
   "metadata": {},
   "outputs": [
    {
     "data": {
      "text/plain": [
       "<matplotlib.axes._subplots.AxesSubplot at 0x7fa31dc1a490>"
      ]
     },
     "execution_count": 15,
     "metadata": {},
     "output_type": "execute_result"
    },
    {
     "data": {
      "image/png": "[encoded data removed]",
      "text/plain": [
       "<Figure size 720x360 with 1 Axes>"
      ]
     },
     "metadata": {
      "needs_background": "light"
     },
     "output_type": "display_data"
    }
   ],
   "source": [
    "youtube_only = df[df[\"Where did/do you properly study programming?\"].str.contains(\"Youtube\") == True]\n",
    "youtube_only[\"Is Programming difficult?\"].value_counts(normalize=False).plot(kind=\"bar\", figsize=(10,5), color=\"#61d199\", rot=0)"
   ]
  },
  {
   "cell_type": "markdown",
   "metadata": {},
   "source": [
    "### - Replys from University/Tertiary students also are;"
   ]
  },
  {
   "cell_type": "code",
   "execution_count": 16,
   "metadata": {},
   "outputs": [
    {
     "data": {
      "text/plain": [
       "<matplotlib.axes._subplots.AxesSubplot at 0x7fa314d32890>"
      ]
     },
     "execution_count": 16,
     "metadata": {},
     "output_type": "execute_result"
    },
    {
     "data": {
      "image/png": "[encoded data removed]",
      "text/plain": [
       "<Figure size 720x360 with 1 Axes>"
      ]
     },
     "metadata": {
      "needs_background": "light"
     },
     "output_type": "display_data"
    }
   ],
   "source": [
    "university = df[df[\"Where did/do you properly study programming?\"].str.contains(\"University/Tertiary\") == True]\n",
    "university[\"Is Programming difficult?\"].value_counts(normalize=False).plot(kind=\"bar\", figsize=(10,5), color=\"#61d199\", rot=0)"
   ]
  },
  {
   "cell_type": "markdown",
   "metadata": {},
   "source": [
    "### - Reply from students who studied from both Youtube and University/Tertiary are;"
   ]
  },
  {
   "cell_type": "code",
   "execution_count": 17,
   "metadata": {},
   "outputs": [
    {
     "data": {
      "text/plain": [
       "<matplotlib.axes._subplots.AxesSubplot at 0x7fa314c8d090>"
      ]
     },
     "execution_count": 17,
     "metadata": {},
     "output_type": "execute_result"
    },
    {
     "data": {
      "image/png": "[encoded data removed]",
      "text/plain": [
       "<Figure size 720x360 with 1 Axes>"
      ]
     },
     "metadata": {
      "needs_background": "light"
     },
     "output_type": "display_data"
    }
   ],
   "source": [
    "university = df[(df[\"Where did/do you properly study programming?\"].str.contains(\"University/Tertiary\") == True) & (df[\"Where did/do you properly study programming?\"].str.contains(\"Youtube\") == True)]\n",
    "university[\"Is Programming difficult?\"].value_counts(normalize=False).plot(kind=\"bar\", figsize=(10,5), color=\"#61d199\", rot=0)"
   ]
  },
  {
   "cell_type": "markdown",
   "metadata": {},
   "source": [
    "### - Reply from students who studied from E-Learning sites (udemy, sololearn etc) are;"
   ]
  },
  {
   "cell_type": "code",
   "execution_count": 18,
   "metadata": {},
   "outputs": [
    {
     "data": {
      "text/plain": [
       "<matplotlib.axes._subplots.AxesSubplot at 0x7fa314bfd410>"
      ]
     },
     "execution_count": 18,
     "metadata": {},
     "output_type": "execute_result"
    },
    {
     "data": {
      "image/png": "[encoded data removed]",
      "text/plain": [
       "<Figure size 720x360 with 1 Axes>"
      ]
     },
     "metadata": {
      "needs_background": "light"
     },
     "output_type": "display_data"
    }
   ],
   "source": [
    "e_learning = df[df[\"Where did/do you properly study programming?\"].str.contains(\"E-Learning\") == True]\n",
    "e_learning[\"Is Programming difficult?\"].value_counts(normalize=False).plot(kind=\"bar\", figsize=(10,5), color=\"#61d199\", rot=0)"
   ]
  },
  {
   "cell_type": "markdown",
   "metadata": {},
   "source": [
    "## How students who studied programming mainly from below sources reacted to the \"Private Institutions do better than other Universities\" survey question;\n",
    "### - Youtube"
   ]
  },
  {
   "cell_type": "code",
   "execution_count": 19,
   "metadata": {},
   "outputs": [
    {
     "data": {
      "text/plain": [
       "<matplotlib.axes._subplots.AxesSubplot at 0x7fa314b6b4d0>"
      ]
     },
     "execution_count": 19,
     "metadata": {},
     "output_type": "execute_result"
    },
    {
     "data": {
      "image/png": "[encoded data removed]",
      "text/plain": [
       "<Figure size 720x360 with 1 Axes>"
      ]
     },
     "metadata": {
      "needs_background": "light"
     },
     "output_type": "display_data"
    }
   ],
   "source": [
    "for_youtube = df[df[\"Where did/do you properly study programming?\"].str.contains(\"Youtube\") == True]\n",
    "for_youtube[\"Do you agree that students studying programming in private institutions do well than universities. \"].value_counts(normalize=False).plot(kind=\"bar\", figsize=(10,5), color=\"#61d199\", rot=0)"
   ]
  },
  {
   "cell_type": "markdown",
   "metadata": {},
   "source": [
    "### - University/Tertiary"
   ]
  },
  {
   "cell_type": "code",
   "execution_count": 20,
   "metadata": {},
   "outputs": [
    {
     "data": {
      "text/plain": [
       "<matplotlib.axes._subplots.AxesSubplot at 0x7fa31def7d50>"
      ]
     },
     "execution_count": 20,
     "metadata": {},
     "output_type": "execute_result"
    },
    {
     "data": {
      "image/png": "[encoded data removed]",
      "text/plain": [
       "<Figure size 720x360 with 1 Axes>"
      ]
     },
     "metadata": {
      "needs_background": "light"
     },
     "output_type": "display_data"
    }
   ],
   "source": [
    "for_university = df[df[\"Where did/do you properly study programming?\"].str.contains(\"University/Tertiary\") == True]\n",
    "for_university[\"Do you agree that students studying programming in private institutions do well than universities. \"].value_counts(normalize=False).plot(kind=\"bar\", figsize=(10,5), color=\"#61d199\", rot=0)"
   ]
  },
  {
   "cell_type": "markdown",
   "metadata": {},
   "source": [
    "### - Both Youtube and University"
   ]
  },
  {
   "cell_type": "code",
   "execution_count": 21,
   "metadata": {},
   "outputs": [
    {
     "data": {
      "text/plain": [
       "<matplotlib.axes._subplots.AxesSubplot at 0x7fa314aa9150>"
      ]
     },
     "execution_count": 21,
     "metadata": {},
     "output_type": "execute_result"
    },
    {
     "data": {
      "image/png": "[encoded data removed]",
      "text/plain": [
       "<Figure size 720x360 with 1 Axes>"
      ]
     },
     "metadata": {
      "needs_background": "light"
     },
     "output_type": "display_data"
    }
   ],
   "source": [
    "both_uni_yt = df[(df[\"Where did/do you properly study programming?\"].str.contains(\"University/Tertiary\") == True) & (df[\"Where did/do you properly study programming?\"].str.contains(\"Youtube\") == True)]\n",
    "both_uni_yt[\"Do you agree that students studying programming in private institutions do well than universities. \"].value_counts(normalize=False).plot(kind=\"bar\", figsize=(10,5), color=\"#61d199\", rot=0)"
   ]
  },
  {
   "cell_type": "markdown",
   "metadata": {},
   "source": [
    "### - E-Learning sites (udemy, sololearn etc)"
   ]
  },
  {
   "cell_type": "code",
   "execution_count": 22,
   "metadata": {},
   "outputs": [
    {
     "data": {
      "text/plain": [
       "<matplotlib.axes._subplots.AxesSubplot at 0x7fa314a381d0>"
      ]
     },
     "execution_count": 22,
     "metadata": {},
     "output_type": "execute_result"
    },
    {
     "data": {
      "image/png": "[encoded data removed]",
      "text/plain": [
       "<Figure size 720x360 with 1 Axes>"
      ]
     },
     "metadata": {
      "needs_background": "light"
     },
     "output_type": "display_data"
    }
   ],
   "source": [
    "for_elearning = df[df[\"Where did/do you properly study programming?\"].str.contains(\"E-Learning\") == True]\n",
    "for_elearning[\"Do you agree that students studying programming in private institutions do well than universities. \"].value_counts(normalize=False).plot(kind=\"bar\", figsize=(10,5), color=\"#61d199\", rot=0)"
   ]
  },
  {
   "cell_type": "code",
   "execution_count": 23,
   "metadata": {},
   "outputs": [
    {
     "data": {
      "text/plain": [
       "<matplotlib.axes._subplots.AxesSubplot at 0x7fa314eb4390>"
      ]
     },
     "execution_count": 23,
     "metadata": {},
     "output_type": "execute_result"
    },
    {
     "data": {
      "image/png": "[encoded data removed]",
      "text/plain": [
       "<Figure size 432x288 with 1 Axes>"
      ]
     },
     "metadata": {},
     "output_type": "display_data"
    }
   ],
   "source": [
    "df[\"Do you have any knowledge on programming?\"].value_counts(normalize=True).plot(kind=\"pie\", shadow=True)"
   ]
  },
  {
   "cell_type": "code",
   "execution_count": 24,
   "metadata": {},
   "outputs": [
    {
     "data": {
      "image/png": "[encoded data removed]",
      "text/plain": [
       "<Figure size 360x216 with 1 Axes>"
      ]
     },
     "metadata": {
      "needs_background": "light"
     },
     "output_type": "display_data"
    }
   ],
   "source": [
    "rng = np.arange(50,0,-1)\n",
    "rnd = np.random.randint(0, 10, size=(3, rng.size))\n",
    "yrs = 1950 + rng\n",
    "\n",
    "fig, ax = plt.subplots(figsize=(5, 3))\n",
    "ax.stackplot(yrs, rng + rnd, labels=['Eastasia', 'Eurasia', 'Oceania'])\n",
    "ax.set_title('Combined debt growth over time')\n",
    "ax.legend(loc='upper left')\n",
    "ax.set_ylabel('Total debt')\n",
    "ax.set_xlim(xmin=yrs[0], xmax=yrs[-1])\n",
    "fig.tight_layout()"
   ]
  },
  {
   "cell_type": "code",
   "execution_count": null,
   "metadata": {},
   "outputs": [],
   "source": []
  },
  {
   "cell_type": "code",
   "execution_count": 33,
   "metadata": {},
   "outputs": [
    {
     "data": {
      "image/png": "[encoded data removed]",
      "text/plain": [
       "<Figure size 432x288 with 1 Axes>"
      ]
     },
     "metadata": {},
     "output_type": "display_data"
    },
    {
     "data": {
      "text/html": [
       "<div>\n",
       "<style scoped>\n",
       "    .dataframe tbody tr th:only-of-type {\n",
       "        vertical-align: middle;\n",
       "    }\n",
       "\n",
       "    .dataframe tbody tr th {\n",
       "        vertical-align: top;\n",
       "    }\n",
       "\n",
       "    .dataframe thead th {\n",
       "        text-align: right;\n",
       "    }\n",
       "</style>\n",
       "<table border=\"1\" class=\"dataframe\">\n",
       "  <thead>\n",
       "    <tr style=\"text-align: right;\">\n",
       "      <th></th>\n",
       "      <th>tip</th>\n",
       "      <th>total_bill</th>\n",
       "    </tr>\n",
       "  </thead>\n",
       "  <tbody>\n",
       "    <tr>\n",
       "      <td>0</td>\n",
       "      <td>2</td>\n",
       "      <td>0</td>\n",
       "    </tr>\n",
       "    <tr>\n",
       "      <td>1</td>\n",
       "      <td>1</td>\n",
       "      <td>10</td>\n",
       "    </tr>\n",
       "  </tbody>\n",
       "</table>\n",
       "</div>"
      ],
      "text/plain": [
       "   tip  total_bill\n",
       "0    2           0\n",
       "1    1          10"
      ]
     },
     "execution_count": 33,
     "metadata": {},
     "output_type": "execute_result"
    }
   ],
   "source": [
    "n = np.arange(2)\n",
    "tips = np.random.randint(0, 10, size=(2, n.size)) + n\n",
    "r = pd.DataFrame({\n",
    "    \"tip\": tips[0],\n",
    "    \"total_bill\": tips[1]\n",
    "})\n",
    "flatui = [\"#9b59b6\",\"#3498db\",\"#95a5a6\",\"#e74c3c\",\"#34495e\",\"#2ecc71\"]\n",
    "sns.set_palette(flatui)\n",
    "\n",
    "# darkgrid, whitegrid, dark, white, ticks\n",
    "sns.set_style(\"whitegrid\")\n",
    "g = sns.distplot(r,\n",
    "                  kde=False,\n",
    "                  color=(\"b\", 'g'))\n",
    "plt.title(\"title\")\n",
    "plt.show(g)\n",
    "r"
   ]
  },
  {
   "cell_type": "code",
   "execution_count": null,
   "metadata": {},
   "outputs": [],
   "source": []
  }
 ],
 "metadata": {
  "kernelspec": {
   "display_name": "Python 3",
   "language": "python",
   "name": "python3"
  },
  "language_info": {
   "codemirror_mode": {
    "name": "ipython",
    "version": 3
   },
   "file_extension": ".py",
   "mimetype": "text/x-python",
   "name": "python",
   "nbconvert_exporter": "python",
   "pygments_lexer": "ipython3",
   "version": "3.7.4"
  }
 },
 "nbformat": 4,
 "nbformat_minor": 2
}
