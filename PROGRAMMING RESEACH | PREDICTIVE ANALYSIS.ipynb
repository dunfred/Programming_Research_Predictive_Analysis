{
 "cells": [
  {
   "cell_type": "markdown",
   "metadata": {},
   "source": [
    "# I just did the sample work with raw dummy data I generated myself"
   ]
  },
  {
   "cell_type": "code",
   "execution_count": 1,
   "metadata": {},
   "outputs": [],
   "source": [
    "import numpy as pd\n",
    "import pandas as pd\n",
    "import seaborn as sns\n",
    "import matplotlib.pyplot as plt"
   ]
  },
  {
   "cell_type": "code",
   "execution_count": 2,
   "metadata": {
    "scrolled": false
   },
   "outputs": [
    {
     "data": {
      "text/html": [
       "<div>\n",
       "<style scoped>\n",
       "    .dataframe tbody tr th:only-of-type {\n",
       "        vertical-align: middle;\n",
       "    }\n",
       "\n",
       "    .dataframe tbody tr th {\n",
       "        vertical-align: top;\n",
       "    }\n",
       "\n",
       "    .dataframe thead th {\n",
       "        text-align: right;\n",
       "    }\n",
       "</style>\n",
       "<table border=\"1\" class=\"dataframe\">\n",
       "  <thead>\n",
       "    <tr style=\"text-align: right;\">\n",
       "      <th></th>\n",
       "      <th>Name</th>\n",
       "      <th>Level Of Education</th>\n",
       "      <th>Gender</th>\n",
       "      <th>Program Studied</th>\n",
       "      <th>Studied ITC</th>\n",
       "      <th>Level Of Knowledge</th>\n",
       "      <th>Knows Programming</th>\n",
       "      <th>Medium Of Knowledge</th>\n",
       "      <th>Name Of Inst.</th>\n",
       "      <th>Interest</th>\n",
       "      <th>High Sch. Programming</th>\n",
       "      <th>Why</th>\n",
       "      <th>Private Institutions Are Better</th>\n",
       "      <th>Reason</th>\n",
       "    </tr>\n",
       "  </thead>\n",
       "  <tbody>\n",
       "    <tr>\n",
       "      <th>0</th>\n",
       "      <td>Florence</td>\n",
       "      <td>Tetiary</td>\n",
       "      <td>F</td>\n",
       "      <td>B.Sc Information Technology</td>\n",
       "      <td>Y</td>\n",
       "      <td>high</td>\n",
       "      <td>Y</td>\n",
       "      <td>Online Courses</td>\n",
       "      <td>University Of Cape coast</td>\n",
       "      <td>AI</td>\n",
       "      <td>Y</td>\n",
       "      <td>Early exposure to programming will be helpful ...</td>\n",
       "      <td>N</td>\n",
       "      <td>Because private institutions only focus on hel...</td>\n",
       "    </tr>\n",
       "    <tr>\n",
       "      <th>1</th>\n",
       "      <td>John</td>\n",
       "      <td>shs</td>\n",
       "      <td>M</td>\n",
       "      <td>B.Sc Computer Technology</td>\n",
       "      <td>N</td>\n",
       "      <td>high</td>\n",
       "      <td>Y</td>\n",
       "      <td>Online Courses</td>\n",
       "      <td>University Of Ghana</td>\n",
       "      <td>Application Developer</td>\n",
       "      <td>Y</td>\n",
       "      <td>Early exposure to programming will be helpful ...</td>\n",
       "      <td>N</td>\n",
       "      <td>Because private institutions only focus on hel...</td>\n",
       "    </tr>\n",
       "    <tr>\n",
       "      <th>2</th>\n",
       "      <td>Cyntia</td>\n",
       "      <td>Tetiary</td>\n",
       "      <td>F</td>\n",
       "      <td>B.Sc Cumputer Technology</td>\n",
       "      <td>N</td>\n",
       "      <td>average</td>\n",
       "      <td>Y</td>\n",
       "      <td>School</td>\n",
       "      <td>University Of Winneba</td>\n",
       "      <td>Web Development</td>\n",
       "      <td>N</td>\n",
       "      <td>Early exposure to programming will be helpful ...</td>\n",
       "      <td>N</td>\n",
       "      <td>Because private institutions only focus on hel...</td>\n",
       "    </tr>\n",
       "    <tr>\n",
       "      <th>3</th>\n",
       "      <td>Trevor</td>\n",
       "      <td>Tetiary</td>\n",
       "      <td>M</td>\n",
       "      <td>BED Information Technology</td>\n",
       "      <td>N</td>\n",
       "      <td>average</td>\n",
       "      <td>Y</td>\n",
       "      <td>Online Courses</td>\n",
       "      <td>University Of Cape coast</td>\n",
       "      <td>Web Development</td>\n",
       "      <td>N</td>\n",
       "      <td>Early exposure to programming will be helpful ...</td>\n",
       "      <td>N</td>\n",
       "      <td>Because private institutions only focus on hel...</td>\n",
       "    </tr>\n",
       "    <tr>\n",
       "      <th>4</th>\n",
       "      <td>Divine</td>\n",
       "      <td>Tetiary</td>\n",
       "      <td>M</td>\n",
       "      <td>B.Sc Information Technology</td>\n",
       "      <td>Y</td>\n",
       "      <td>average</td>\n",
       "      <td>Y</td>\n",
       "      <td>School</td>\n",
       "      <td>University Of Cape coast</td>\n",
       "      <td>Data Scientist</td>\n",
       "      <td>Y</td>\n",
       "      <td>Early exposure to programming will be helpful ...</td>\n",
       "      <td>N</td>\n",
       "      <td>Because private institutions only focus on hel...</td>\n",
       "    </tr>\n",
       "  </tbody>\n",
       "</table>\n",
       "</div>"
      ],
      "text/plain": [
       "       Name Level Of Education Gender              Program Studied  \\\n",
       "0  Florence            Tetiary      F  B.Sc Information Technology   \n",
       "1      John                shs      M     B.Sc Computer Technology   \n",
       "2    Cyntia            Tetiary      F     B.Sc Cumputer Technology   \n",
       "3    Trevor            Tetiary      M   BED Information Technology   \n",
       "4    Divine            Tetiary      M  B.Sc Information Technology   \n",
       "\n",
       "  Studied ITC Level Of Knowledge Knows Programming Medium Of Knowledge  \\\n",
       "0           Y               high                 Y      Online Courses   \n",
       "1           N               high                 Y      Online Courses   \n",
       "2           N            average                 Y              School   \n",
       "3           N            average                 Y      Online Courses   \n",
       "4           Y            average                 Y              School   \n",
       "\n",
       "              Name Of Inst.               Interest  High Sch. Programming  \\\n",
       "0  University Of Cape coast                     AI                      Y   \n",
       "1       University Of Ghana  Application Developer                      Y   \n",
       "2     University Of Winneba        Web Development                      N   \n",
       "3  University Of Cape coast        Web Development                      N   \n",
       "4  University Of Cape coast         Data Scientist                      Y   \n",
       "\n",
       "                                                 Why  \\\n",
       "0  Early exposure to programming will be helpful ...   \n",
       "1  Early exposure to programming will be helpful ...   \n",
       "2  Early exposure to programming will be helpful ...   \n",
       "3  Early exposure to programming will be helpful ...   \n",
       "4  Early exposure to programming will be helpful ...   \n",
       "\n",
       "  Private Institutions Are Better  \\\n",
       "0                               N   \n",
       "1                               N   \n",
       "2                               N   \n",
       "3                               N   \n",
       "4                               N   \n",
       "\n",
       "                                              Reason  \n",
       "0  Because private institutions only focus on hel...  \n",
       "1  Because private institutions only focus on hel...  \n",
       "2  Because private institutions only focus on hel...  \n",
       "3  Because private institutions only focus on hel...  \n",
       "4  Because private institutions only focus on hel...  "
      ]
     },
     "execution_count": 2,
     "metadata": {},
     "output_type": "execute_result"
    }
   ],
   "source": [
    "excel = pd.read_excel(\"research.xlsx\")\n",
    "\n",
    "df = pd.DataFrame(excel)\n",
    "df.head()"
   ]
  },
  {
   "cell_type": "markdown",
   "metadata": {},
   "source": [
    "# Did you study ITC in basic school? \n",
    "## * Males"
   ]
  },
  {
   "cell_type": "code",
   "execution_count": 3,
   "metadata": {},
   "outputs": [
    {
     "data": {
      "image/png": "[encoded data removed]",
      "text/plain": [
       "<Figure size 720x360 with 1 Axes>"
      ]
     },
     "metadata": {
      "needs_background": "light"
     },
     "output_type": "display_data"
    }
   ],
   "source": [
    "plt.figure(figsize=(10,5))\n",
    "chart = sns.countplot(\n",
    "    data = df[df[\"Gender\"]==\"M\"],\n",
    "    x    = \"Studied ITC\",\n",
    "    palette=\"Set1\")"
   ]
  },
  {
   "cell_type": "markdown",
   "metadata": {},
   "source": [
    "## * Females"
   ]
  },
  {
   "cell_type": "code",
   "execution_count": 4,
   "metadata": {},
   "outputs": [
    {
     "data": {
      "image/png": "[encoded data removed]",
      "text/plain": [
       "<Figure size 720x360 with 1 Axes>"
      ]
     },
     "metadata": {
      "needs_background": "light"
     },
     "output_type": "display_data"
    }
   ],
   "source": [
    "plt.figure(figsize=(10,5))\n",
    "chart = sns.countplot(\n",
    "    data = df[df[\"Gender\"]==\"F\"],\n",
    "    x    = \"Studied ITC\",\n",
    "    palette=\"Set1\")"
   ]
  },
  {
   "cell_type": "markdown",
   "metadata": {},
   "source": [
    "# Based on my dataset we have only two places where interviewees studied programming at \"School\" and through \"Online Courses\"\n",
    "## * Gender Statistics for Online Courses"
   ]
  },
  {
   "cell_type": "code",
   "execution_count": 5,
   "metadata": {},
   "outputs": [
    {
     "data": {
      "image/png": "[encoded data removed]",
      "text/plain": [
       "<Figure size 720x360 with 1 Axes>"
      ]
     },
     "metadata": {
      "needs_background": "light"
     },
     "output_type": "display_data"
    }
   ],
   "source": [
    "plt.figure(figsize=(10,5))\n",
    "chart = sns.countplot(\n",
    "    data = df[df[\"Medium Of Knowledge\"]==\"Online Courses\"],\n",
    "    x    = \"Gender\",\n",
    "    palette=\"Set2\")"
   ]
  },
  {
   "cell_type": "markdown",
   "metadata": {},
   "source": [
    "## * Gender statistics for School"
   ]
  },
  {
   "cell_type": "code",
   "execution_count": 6,
   "metadata": {},
   "outputs": [
    {
     "data": {
      "image/png": "[encoded data removed]",
      "text/plain": [
       "<Figure size 720x360 with 1 Axes>"
      ]
     },
     "metadata": {
      "needs_background": "light"
     },
     "output_type": "display_data"
    }
   ],
   "source": [
    "plt.figure(figsize=(10,5))\n",
    "chart = sns.countplot(\n",
    "    data = df[df[\"Medium Of Knowledge\"]==\"Online Courses\"],\n",
    "    x    = \"Gender\",\n",
    "    palette=\"Set2\")"
   ]
  },
  {
   "cell_type": "markdown",
   "metadata": {},
   "source": [
    "# Level of knowledge for interviewees who studied programming in;\n",
    "## * Schools"
   ]
  },
  {
   "cell_type": "code",
   "execution_count": 7,
   "metadata": {
    "scrolled": true
   },
   "outputs": [
    {
     "data": {
      "image/png": "[encoded data removed]",
      "text/plain": [
       "<Figure size 720x360 with 1 Axes>"
      ]
     },
     "metadata": {
      "needs_background": "light"
     },
     "output_type": "display_data"
    }
   ],
   "source": [
    "plt.figure(figsize=(10,5))\n",
    "chart = sns.countplot(\n",
    "    data = df[df[\"Medium Of Knowledge\"]==\"School\"],\n",
    "    x    = \"Level Of Knowledge\",\n",
    "    palette=\"Set1\")"
   ]
  },
  {
   "cell_type": "markdown",
   "metadata": {},
   "source": [
    "## * Online Courses"
   ]
  },
  {
   "cell_type": "code",
   "execution_count": 8,
   "metadata": {},
   "outputs": [
    {
     "data": {
      "image/png": "[encoded data removed]",
      "text/plain": [
       "<Figure size 720x360 with 1 Axes>"
      ]
     },
     "metadata": {
      "needs_background": "light"
     },
     "output_type": "display_data"
    }
   ],
   "source": [
    "plt.figure(figsize=(10,5))\n",
    "chart = sns.countplot(\n",
    "    data = df[df[\"Medium Of Knowledge\"]==\"Online Courses\"],\n",
    "    x    = \"Level Of Knowledge\",\n",
    "    palette=\"Set1\")"
   ]
  },
  {
   "cell_type": "markdown",
   "metadata": {},
   "source": [
    "# Interests In the IT field\n",
    "## * Males"
   ]
  },
  {
   "cell_type": "code",
   "execution_count": 9,
   "metadata": {},
   "outputs": [
    {
     "data": {
      "image/png": "[encoded data removed]",
      "text/plain": [
       "<Figure size 720x360 with 1 Axes>"
      ]
     },
     "metadata": {
      "needs_background": "light"
     },
     "output_type": "display_data"
    }
   ],
   "source": [
    "plt.figure(figsize=(10,5))\n",
    "chart = sns.countplot(\n",
    "    data = df[df[\"Gender\"]==\"M\"],\n",
    "    x    = \"Interest\",\n",
    "    palette=\"Set3\")"
   ]
  },
  {
   "cell_type": "markdown",
   "metadata": {},
   "source": [
    "## * Females"
   ]
  },
  {
   "cell_type": "code",
   "execution_count": 10,
   "metadata": {},
   "outputs": [
    {
     "data": {
      "image/png": "[encoded data removed]",
      "text/plain": [
       "<Figure size 720x360 with 1 Axes>"
      ]
     },
     "metadata": {
      "needs_background": "light"
     },
     "output_type": "display_data"
    }
   ],
   "source": [
    "plt.figure(figsize=(10,5))\n",
    "chart = sns.countplot(\n",
    "    data = df[df[\"Gender\"]==\"F\"],\n",
    "    x    = \"Interest\",\n",
    "    palette=\"Set3\")"
   ]
  },
  {
   "cell_type": "code",
   "execution_count": null,
   "metadata": {},
   "outputs": [],
   "source": []
  }
 ],
 "metadata": {
  "kernelspec": {
   "display_name": "Python 3.6 (tensorflow)",
   "language": "python",
   "name": "tensorflow"
  },
  "language_info": {
   "codemirror_mode": {
    "name": "ipython",
    "version": 3
   },
   "file_extension": ".py",
   "mimetype": "text/x-python",
   "name": "python",
   "nbconvert_exporter": "python",
   "pygments_lexer": "ipython3",
   "version": "3.7.4"
  }
 },
 "nbformat": 4,
 "nbformat_minor": 2
}
